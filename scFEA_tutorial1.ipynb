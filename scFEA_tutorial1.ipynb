{
 "cells": [
  {
   "cell_type": "markdown",
   "metadata": {},
   "source": [
    "# scFEA Tutorial"
   ]
  },
  {
   "cell_type": "markdown",
   "metadata": {},
   "source": [
    "#### 1. Video introduction\n",
    "scFEA has been highlighted in recomb 2021. For more details, please see our presentation video at [link](https://www.youtube.com/watch?v=-S8ouz2F-Rk).\n",
    "\n",
    "#### 2. Installation\n",
    "\n",
    "scFEA is implemented by Python 3. If you don't have Python, please download [Anaconda](https://www.anaconda.com/products/individual-d) with Python 3 version. \n",
    "\n",
    "- torch >= 0.4.1\n",
    "- numpy >= 1.15.4\n",
    "- pandas >= 0.23.4\n",
    "- matplotlib >= 3.0.2\n",
    "- magic >= 2.0.4\n",
    "\n",
    "Download scFEA:\n",
    "\n",
    "`\n",
    "git clone https://github.com/changwn/scFEA\n",
    "`\n",
    "\n",
    "Install requirements:\n",
    "\n",
    "`\n",
    "cd scFEA\n",
    "conda install --file requirements\n",
    "conda install pytorch torchvision -c pytorch\n",
    "pip install --user magic-impute\n",
    "`\n",
    "\n",
    "#### 3. Verify Installation\n",
    "\n",
    "To ensure that the scFEA is installed correctly, run below code. If you can see help documentation, the software was installed successfully."
   ]
  },
  {
   "cell_type": "code",
   "execution_count": 10,
   "metadata": {},
   "outputs": [
    {
     "name": "stdout",
     "output_type": "stream",
     "text": [
      "usage: scFEA.py [-h] [--data_dir <data_directory>]\n",
      "                [--input_dir <input_directory>] [--res_dir <data_directory>]\n",
      "                [--test_file TEST_FILE] [--moduleGene_file MODULEGENE_FILE]\n",
      "                [--stoichiometry_matrix STOICHIOMETRY_MATRIX]\n",
      "                [--cName_file CNAME_FILE] [--sc_imputation {True,False}]\n",
      "\n",
      "scFEA: A graph neural network model to estimate cell-wise metabolic flux using\n",
      "single cell RNA-seq data\n",
      "\n",
      "optional arguments:\n",
      "  -h, --help            show this help message and exit\n",
      "  --data_dir <data_directory>\n",
      "                        The data directory for scFEA model files.\n",
      "  --input_dir <input_directory>\n",
      "                        The data directory for single cell input data.\n",
      "  --res_dir <data_directory>\n",
      "                        The data directory for result [output]. The output of\n",
      "                        scFEA includes two matrices, predicted metabolic flux\n",
      "                        and metabolites stress at single cell resolution.\n",
      "  --test_file TEST_FILE\n",
      "                        The test SC file [input]. The input of scFEA is a\n",
      "                        single cell profile matrix, where row is gene and\n",
      "                        column is cell. Example datasets are provided in\n",
      "                        /data/ folder. The input can be raw counts or\n",
      "                        normalised counts. The logarithm would be performed if\n",
      "                        value larger than 30.\n",
      "  --moduleGene_file MODULEGENE_FILE\n",
      "                        The table contains genes for each module. We provide\n",
      "                        human and mouse two models in scFEA. For human model,\n",
      "                        please use module_gene_m168.csv which is default. All\n",
      "                        candidate moduleGene files are provided in /data/\n",
      "                        folder.\n",
      "  --stoichiometry_matrix STOICHIOMETRY_MATRIX\n",
      "                        The table describes relationship between compounds and\n",
      "                        modules. Each row is an intermediate metabolite and\n",
      "                        each column is metabolic module. For human model,\n",
      "                        please use cmMat_171.csv which is default. All\n",
      "                        candidate stoichiometry matrices are provided in\n",
      "                        /data/ folder.\n",
      "  --cName_file CNAME_FILE\n",
      "                        The name of compounds. The table contains two rows.\n",
      "                        First row is compounds name and second row is\n",
      "                        corresponding id.\n",
      "  --sc_imputation {True,False}\n",
      "                        Whether perform imputation for SC dataset (recommend\n",
      "                        set to <True> for 10x data).\n"
     ]
    }
   ],
   "source": [
    "%%bash\n",
    "cd /Users/chang/Documents/work/flux/scFEA\n",
    "python src/scFEA.py --help"
   ]
  },
  {
   "cell_type": "markdown",
   "metadata": {},
   "source": [
    "#### 4. Run scFEA\n",
    "\n",
    "4.1 example 1 human complete modules"
   ]
  },
  {
   "cell_type": "code",
   "execution_count": 24,
   "metadata": {},
   "outputs": [
    {
     "name": "stdout",
     "output_type": "stream",
     "text": [
      "Starting load data...\n",
      "Load compound name file, the balance output will have compound name.\n",
      "Load data done.\n",
      "Starting process data...\n",
      "Process data done.\n",
      "Starting train neural network...\n",
      "Training time:  14.462519645690918\n",
      "scFEA job finished. Check result in the desired output folder.\n"
     ]
    },
    {
     "name": "stderr",
     "output_type": "stream",
     "text": [
      "\r",
      "  0%|          | 0/100 [00:00<?, ?it/s]\r",
      "  1%|          | 1/100 [00:00<00:16,  5.91it/s]\r",
      "  2%|▏         | 2/100 [00:00<00:17,  5.73it/s]\r",
      "  3%|▎         | 3/100 [00:00<00:16,  5.86it/s]\r",
      "  4%|▍         | 4/100 [00:00<00:15,  6.08it/s]\r",
      "  5%|▌         | 5/100 [00:00<00:15,  6.32it/s]\r",
      "  6%|▌         | 6/100 [00:00<00:14,  6.51it/s]\r",
      "  7%|▋         | 7/100 [00:01<00:14,  6.54it/s]\r",
      "  8%|▊         | 8/100 [00:01<00:13,  6.66it/s]\r",
      "  9%|▉         | 9/100 [00:01<00:13,  6.76it/s]\r",
      " 10%|█         | 10/100 [00:01<00:13,  6.86it/s]\r",
      " 11%|█         | 11/100 [00:01<00:12,  6.95it/s]\r",
      " 12%|█▏        | 12/100 [00:01<00:12,  6.95it/s]\r",
      " 13%|█▎        | 13/100 [00:01<00:12,  6.98it/s]\r",
      " 14%|█▍        | 14/100 [00:02<00:12,  6.99it/s]\r",
      " 15%|█▌        | 15/100 [00:02<00:12,  7.00it/s]\r",
      " 16%|█▌        | 16/100 [00:02<00:12,  6.96it/s]\r",
      " 17%|█▋        | 17/100 [00:02<00:11,  6.94it/s]\r",
      " 18%|█▊        | 18/100 [00:02<00:11,  6.99it/s]\r",
      " 19%|█▉        | 19/100 [00:02<00:11,  7.00it/s]\r",
      " 20%|██        | 20/100 [00:02<00:11,  6.96it/s]\r",
      " 21%|██        | 21/100 [00:03<00:11,  7.00it/s]\r",
      " 22%|██▏       | 22/100 [00:03<00:11,  7.06it/s]\r",
      " 23%|██▎       | 23/100 [00:03<00:10,  7.01it/s]\r",
      " 24%|██▍       | 24/100 [00:03<00:10,  7.00it/s]\r",
      " 25%|██▌       | 25/100 [00:03<00:10,  7.02it/s]\r",
      " 26%|██▌       | 26/100 [00:03<00:10,  7.04it/s]\r",
      " 27%|██▋       | 27/100 [00:03<00:10,  7.06it/s]\r",
      " 28%|██▊       | 28/100 [00:04<00:10,  7.01it/s]\r",
      " 29%|██▉       | 29/100 [00:04<00:10,  7.00it/s]\r",
      " 30%|███       | 30/100 [00:04<00:10,  6.94it/s]\r",
      " 31%|███       | 31/100 [00:04<00:09,  6.93it/s]\r",
      " 32%|███▏      | 32/100 [00:04<00:09,  7.02it/s]\r",
      " 33%|███▎      | 33/100 [00:04<00:09,  7.05it/s]\r",
      " 34%|███▍      | 34/100 [00:04<00:09,  7.06it/s]\r",
      " 35%|███▌      | 35/100 [00:05<00:09,  7.04it/s]\r",
      " 36%|███▌      | 36/100 [00:05<00:09,  7.03it/s]\r",
      " 37%|███▋      | 37/100 [00:05<00:08,  7.02it/s]\r",
      " 38%|███▊      | 38/100 [00:05<00:08,  6.92it/s]\r",
      " 39%|███▉      | 39/100 [00:05<00:08,  6.99it/s]\r",
      " 40%|████      | 40/100 [00:05<00:08,  7.02it/s]\r",
      " 41%|████      | 41/100 [00:05<00:08,  7.02it/s]\r",
      " 42%|████▏     | 42/100 [00:06<00:08,  7.01it/s]\r",
      " 43%|████▎     | 43/100 [00:06<00:08,  7.07it/s]\r",
      " 44%|████▍     | 44/100 [00:06<00:07,  7.08it/s]\r",
      " 45%|████▌     | 45/100 [00:06<00:07,  7.10it/s]\r",
      " 46%|████▌     | 46/100 [00:06<00:07,  7.10it/s]\r",
      " 47%|████▋     | 47/100 [00:06<00:07,  7.11it/s]\r",
      " 48%|████▊     | 48/100 [00:06<00:07,  7.10it/s]\r",
      " 49%|████▉     | 49/100 [00:07<00:07,  7.05it/s]\r",
      " 50%|█████     | 50/100 [00:07<00:07,  6.33it/s]\r",
      " 51%|█████     | 51/100 [00:07<00:07,  6.19it/s]\r",
      " 52%|█████▏    | 52/100 [00:07<00:07,  6.04it/s]\r",
      " 53%|█████▎    | 53/100 [00:07<00:07,  6.22it/s]\r",
      " 54%|█████▍    | 54/100 [00:07<00:07,  6.37it/s]\r",
      " 55%|█████▌    | 55/100 [00:08<00:06,  6.55it/s]\r",
      " 56%|█████▌    | 56/100 [00:08<00:06,  6.71it/s]\r",
      " 57%|█████▋    | 57/100 [00:08<00:06,  6.80it/s]\r",
      " 58%|█████▊    | 58/100 [00:08<00:06,  6.83it/s]\r",
      " 59%|█████▉    | 59/100 [00:08<00:05,  6.90it/s]\r",
      " 60%|██████    | 60/100 [00:08<00:05,  6.97it/s]\r",
      " 61%|██████    | 61/100 [00:08<00:05,  6.98it/s]\r",
      " 62%|██████▏   | 62/100 [00:09<00:05,  7.01it/s]\r",
      " 63%|██████▎   | 63/100 [00:09<00:05,  7.02it/s]\r",
      " 64%|██████▍   | 64/100 [00:09<00:05,  7.03it/s]\r",
      " 65%|██████▌   | 65/100 [00:09<00:05,  7.00it/s]\r",
      " 66%|██████▌   | 66/100 [00:09<00:04,  7.02it/s]\r",
      " 67%|██████▋   | 67/100 [00:09<00:04,  6.99it/s]\r",
      " 68%|██████▊   | 68/100 [00:09<00:04,  7.03it/s]\r",
      " 69%|██████▉   | 69/100 [00:10<00:04,  7.05it/s]\r",
      " 70%|███████   | 70/100 [00:10<00:04,  7.07it/s]\r",
      " 71%|███████   | 71/100 [00:10<00:04,  7.08it/s]\r",
      " 72%|███████▏  | 72/100 [00:10<00:03,  7.06it/s]\r",
      " 73%|███████▎  | 73/100 [00:10<00:03,  7.07it/s]\r",
      " 74%|███████▍  | 74/100 [00:10<00:03,  6.99it/s]\r",
      " 75%|███████▌  | 75/100 [00:10<00:03,  7.02it/s]\r",
      " 76%|███████▌  | 76/100 [00:11<00:03,  7.02it/s]\r",
      " 77%|███████▋  | 77/100 [00:11<00:03,  7.01it/s]\r",
      " 78%|███████▊  | 78/100 [00:11<00:03,  7.02it/s]\r",
      " 79%|███████▉  | 79/100 [00:11<00:02,  7.02it/s]\r",
      " 80%|████████  | 80/100 [00:11<00:02,  7.04it/s]\r",
      " 81%|████████  | 81/100 [00:11<00:02,  7.03it/s]\r",
      " 82%|████████▏ | 82/100 [00:11<00:02,  7.01it/s]\r",
      " 83%|████████▎ | 83/100 [00:12<00:02,  7.06it/s]\r",
      " 84%|████████▍ | 84/100 [00:12<00:02,  7.06it/s]\r",
      " 85%|████████▌ | 85/100 [00:12<00:02,  7.06it/s]\r",
      " 86%|████████▌ | 86/100 [00:12<00:01,  7.04it/s]\r",
      " 87%|████████▋ | 87/100 [00:12<00:01,  7.06it/s]\r",
      " 88%|████████▊ | 88/100 [00:12<00:01,  7.04it/s]\r",
      " 89%|████████▉ | 89/100 [00:12<00:01,  7.04it/s]\r",
      " 90%|█████████ | 90/100 [00:13<00:01,  7.07it/s]\r",
      " 91%|█████████ | 91/100 [00:13<00:01,  7.08it/s]\r",
      " 92%|█████████▏| 92/100 [00:13<00:01,  7.02it/s]\r",
      " 93%|█████████▎| 93/100 [00:13<00:00,  7.04it/s]\r",
      " 94%|█████████▍| 94/100 [00:13<00:00,  7.09it/s]\r",
      " 95%|█████████▌| 95/100 [00:13<00:00,  7.09it/s]\r",
      " 96%|█████████▌| 96/100 [00:13<00:00,  7.09it/s]\r",
      " 97%|█████████▋| 97/100 [00:14<00:00,  7.06it/s]\r",
      " 98%|█████████▊| 98/100 [00:14<00:00,  7.08it/s]\r",
      " 99%|█████████▉| 99/100 [00:14<00:00,  7.06it/s]\r",
      "100%|██████████| 100/100 [00:14<00:00,  7.05it/s]\r",
      "100%|██████████| 100/100 [00:14<00:00,  6.92it/s]\n"
     ]
    }
   ],
   "source": [
    "%%bash\n",
    "cd /Users/chang/Documents/work/flux/scFEA\n",
    "#python src/scFEA.py\n",
    "python src/scFEA.py --data_dir data --input_dir input \\ # you need to create a new folder named input.\n",
    "                    --test_file Melissa_full.csv \\\n",
    "                    --moduleGene_file module_gene_m168.csv \\\n",
    "                    --stoichiometry_matrix cmMat_c70_m168.csv"
   ]
  },
  {
   "cell_type": "markdown",
   "metadata": {},
   "source": [
    "4.2 example 2 mouse complete modules"
   ]
  },
  {
   "cell_type": "code",
   "execution_count": null,
   "metadata": {},
   "outputs": [],
   "source": []
  },
  {
   "cell_type": "markdown",
   "metadata": {},
   "source": [
    "4.3 example 3 iron ion modules\n",
    "\n",
    "4.4 example 4 glutaminolysis modules"
   ]
  },
  {
   "cell_type": "markdown",
   "metadata": {},
   "source": [
    "#### 5. Downstream Analysis\n",
    "\n",
    "(R package scFEA coming soon which includes downstream analysis and visualization of flux)"
   ]
  },
  {
   "cell_type": "code",
   "execution_count": 6,
   "metadata": {},
   "outputs": [
    {
     "name": "stdout",
     "output_type": "stream",
     "text": [
      "The rpy2.ipython extension is already loaded. To reload it, use:\n",
      "  %reload_ext rpy2.ipython\n"
     ]
    }
   ],
   "source": [
    "# use rpy2 to enable R and python in one jupyter notebook\n",
    "%load_ext rpy2.ipython"
   ]
  },
  {
   "cell_type": "code",
   "execution_count": null,
   "metadata": {},
   "outputs": [],
   "source": []
  },
  {
   "cell_type": "code",
   "execution_count": null,
   "metadata": {},
   "outputs": [],
   "source": []
  },
  {
   "cell_type": "code",
   "execution_count": null,
   "metadata": {},
   "outputs": [],
   "source": [
    "%load_ext rpy2.ipython"
   ]
  },
  {
   "cell_type": "code",
   "execution_count": 5,
   "metadata": {},
   "outputs": [
    {
     "name": "stdout",
     "output_type": "stream",
     "text": [
      "[1] 2\n"
     ]
    }
   ],
   "source": []
  },
  {
   "cell_type": "code",
   "execution_count": null,
   "metadata": {},
   "outputs": [],
   "source": [
    "print('hi from python')"
   ]
  },
  {
   "cell_type": "markdown",
   "metadata": {},
   "source": []
  }
 ],
 "metadata": {
  "kernelspec": {
   "display_name": "Python 3",
   "language": "python",
   "name": "python3"
  },
  "language_info": {
   "codemirror_mode": {
    "name": "ipython",
    "version": 3
   },
   "file_extension": ".py",
   "mimetype": "text/x-python",
   "name": "python",
   "nbconvert_exporter": "python",
   "pygments_lexer": "ipython3",
   "version": "3.8.5"
  }
 },
 "nbformat": 4,
 "nbformat_minor": 4
}
